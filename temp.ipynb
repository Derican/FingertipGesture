{
 "cells": [
  {
   "cell_type": "code",
   "execution_count": 45,
   "metadata": {},
   "outputs": [],
   "source": [
    "from Plot import *\n",
    "path = np.load('new_data/ch_data_letter_dir_0/e_1.npy')"
   ]
  },
  {
   "cell_type": "code",
   "execution_count": 46,
   "metadata": {},
   "outputs": [],
   "source": [
    "ANGLE_THRESHOLD = np.pi / 5\n",
    "MERGE_THRESHOLD = 15\n",
    "MERGE_DIST_THRESHOLD = 1\n",
    "HV_THRESHOLD = 0.6\n",
    "HV_AVG_THRESHOLD = 0.5\n",
    "\n",
    "def angleDiff(u, v):\n",
    "    ang1 = np.arctan2(u[1], u[0])\n",
    "    ang2 = np.arctan2(v[1], v[0])\n",
    "    return 2 * np.pi - abs(ang1 -\n",
    "                            ang2) if abs(ang1 -\n",
    "                                        ang2) >= np.pi else abs(ang1 -\n",
    "                                                                ang2)\n",
    "\n",
    "# smooth the path\n",
    "x, y, d = getAveragePath(path,False)\n",
    "x = gaussian_filter1d(x, sigma=5)\n",
    "y = gaussian_filter1d(y, sigma=5)\n",
    "\n",
    "# filter the turning points that seperates angles\n",
    "debug_dir = []\n",
    "debug_dir.append(0)\n",
    "i = 1\n",
    "while i < len(x):\n",
    "    cur_v = (x[i] - x[i - 1], y[i] - y[i - 1])\n",
    "    j = i\n",
    "    while j < len(x) and angleDiff(\n",
    "        (x[j] - x[j - 1], y[j] - y[j - 1]),\n",
    "            cur_v) < ANGLE_THRESHOLD and angleDiff(\n",
    "                (x[j] - x[j - 1], y[j] - y[j - 1]),\n",
    "                (x[i] - x[i - 1], y[i] - y[i - 1])) < ANGLE_THRESHOLD:\n",
    "        cur_v = (x[j] - x[i - 1], y[j] - y[i - 1])\n",
    "        j += 1\n",
    "    debug_dir.append(j-1)\n",
    "    i = j\n",
    "\n",
    "# merge points that are enough close to each other\n",
    "i = 0\n",
    "simplified_dir = []\n",
    "while i < len(debug_dir):\n",
    "    t = []\n",
    "    lat = debug_dir[i]\n",
    "    while i < len(debug_dir) and (debug_dir[i] - lat < MERGE_THRESHOLD or (x[debug_dir[i]]-x[lat])**2+(y[debug_dir[i]]-y[lat])**2<MERGE_DIST_THRESHOLD):\n",
    "        t.append(debug_dir[i])\n",
    "        lat = debug_dir[i]\n",
    "        i += 1\n",
    "    simplified_dir.append(int(np.mean(t)))\n",
    "\n",
    "simplified_dir.append(len(x) - 1)\n",
    "\n",
    "# calculate the average of x/y offsets\n",
    "x_avg, y_avg = 0, 0\n",
    "for u, v in list(zip(simplified_dir[:-1], simplified_dir[1:])):\n",
    "    if abs(x[v] - x[u]) > abs(y[v] - y[u]):\n",
    "        x_avg += abs(x[v] - x[u])\n",
    "    else:\n",
    "        y_avg += abs(y[v] - y[u])\n",
    "x_avg = x_avg / (len(simplified_dir) - 1)\n",
    "y_avg = y_avg / (len(simplified_dir) - 1)\n",
    "\n",
    "# filter the turning points that are far enough to each other\n",
    "filtered_dir = []\n",
    "for sd in simplified_dir:\n",
    "    if len(filtered_dir) <= 0:\n",
    "        filtered_dir.append(sd)\n",
    "        continue\n",
    "    x_off = abs(x[sd] - x[filtered_dir[-1]])\n",
    "    y_off = abs(y[sd] - y[filtered_dir[-1]])\n",
    "    if x_off > y_off and x_off > x_avg * HV_AVG_THRESHOLD and x_off > HV_THRESHOLD:\n",
    "        filtered_dir.append(sd)\n",
    "    elif y_off > x_off and y_off > y_avg * HV_AVG_THRESHOLD and y_off > HV_THRESHOLD:\n",
    "        filtered_dir.append(sd)\n",
    "    elif x_off == y_off and (\n",
    "        (x_off > x_avg * HV_AVG_THRESHOLD and x_off > HV_THRESHOLD) or\n",
    "        (y_off > y_avg * HV_AVG_THRESHOLD and y_off > HV_THRESHOLD)):\n",
    "        filtered_dir.append(sd)"
   ]
  },
  {
   "cell_type": "code",
   "execution_count": 48,
   "metadata": {},
   "outputs": [
    {
     "data": {
      "image/png": "[encoded data removed]",
      "text/plain": [
       "<Figure size 432x288 with 1 Axes>"
      ]
     },
     "metadata": {
      "needs_background": "light"
     },
     "output_type": "display_data"
    }
   ],
   "source": [
    "%matplotlib inline\n",
    "plt.axis(\"scaled\")\n",
    "plt.xlim(10, 17)\n",
    "plt.ylim(15, 25)\n",
    "plt.scatter(x,y)\n",
    "for f_d in debug_dir:\n",
    "    plt.scatter([x[f_d]],[y[f_d]],c='red')"
   ]
  },
  {
   "cell_type": "code",
   "execution_count": 39,
   "metadata": {},
   "outputs": [
    {
     "data": {
      "text/plain": [
       "0.740682513775795"
      ]
     },
     "execution_count": 39,
     "metadata": {},
     "output_type": "execute_result"
    }
   ],
   "source": [
    "i=83\n",
    "j=105\n",
    "(x[i]-x[j])**2+(y[i]-y[j])**2\n"
   ]
  },
  {
   "cell_type": "code",
   "execution_count": null,
   "metadata": {},
   "outputs": [],
   "source": []
  }
 ],
 "metadata": {
  "kernelspec": {
   "display_name": "Python 3.10.5 64-bit",
   "language": "python",
   "name": "python3"
  },
  "language_info": {
   "codemirror_mode": {
    "name": "ipython",
    "version": 3
   },
   "file_extension": ".py",
   "mimetype": "text/x-python",
   "name": "python",
   "nbconvert_exporter": "python",
   "pygments_lexer": "ipython3",
   "version": "3.10.5"
  },
  "orig_nbformat": 4,
  "vscode": {
   "interpreter": {
    "hash": "2ed2f9a4391345eba779b48810545107e540e5196b3ca5390c526ab7e4ecc23e"
   }
  }
 },
 "nbformat": 4,
 "nbformat_minor": 2
}
