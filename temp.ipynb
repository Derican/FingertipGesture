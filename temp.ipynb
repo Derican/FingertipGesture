{
 "cells": [
  {
   "cell_type": "code",
   "execution_count": 2,
   "metadata": {},
   "outputs": [
    {
     "name": "stdout",
     "output_type": "stream",
     "text": [
      "zyw w 2\n",
      "[1, 1, 1, 1, 1, 1, 1, 1, 1, 1, 1, 1, 0, 0, 0, 0, 0, 0, 0, 0, 0, 0, 0, 0, 0, 0, 1, 1, 1, 1, 1, 1, 1, 1, 1, 2, 2, 2, 2, 2, 2, 2, 2, 2, 2, 2, 2, 2, 1, 1, 0, 0, 0, 5, 5, 5, 5, 5, 5, 5, 0, 0, 0, 0, 0, 0, 0, 0, 0, 0, 2, 2, 2, 2, 2, 2, 2, 2, 2, 2, 2, 2, 2, 2, 2, 2, 3, 3, 3, 3, 3, 3, 3, 3, 3, 3, 3, 3, 3, 3, 3, 3, 3, 3, 3, 3, 3, 3, 3, 3, 3, 3, 3, 3, 3, 3, 3, 3, 3, 3, 3, 3, 3, 3, 3, 1, 0, 0, 0, 0, 0, 0, 0, 0, 0, 0, 0, 0, 0, 0, 0, 0, 0, 0, 0, 0, 0, 0, 0, 0, 0, 0, 0, 0, 0, 0, 0, 0, 0, 0, 0, 0, 0, 0, 0, 0, 0, 0, 0, 0, 0, 0, 0, 0, 0, 0, 0, 0, 0, 0, 1, 1, 1, 1, 1, 1, 1, 1, 1, 1, 1, 1, 1, 1, 1, 1, 1, 1, 1, 1, 1, 1, 1, 1, 1, 1, 1, 1, 1, 1, 1, 1, 1, 1, 1, 1, 1, 1, 1, 1, 1, 1, 1, 1, 1, 1, 1, 1, 1, 1, 1, 1, 2, 2, 2, 2, 2, 2, 2, 2, 2, 2, 3, 3, 3, 3, 3, 3, 3, 3, 3, 3, 3, 3, 3, 3, 3, 3, 3, 3, 3, 3, 3, 3, 3, 3, 3, 3, 3, 3, 3, 3, 3, 3, 3, 3, 3, 3, 3, 3, 3, 3, 3, 3, 3, 3, 3, 3, 3, 3, 3, 3, 3, 3, 3, 3, 3, 3, 3, 3, 3, 3, 3, 3, 3, 3, 3, 3, 3, 3, 3, 3, 3, 3, 3, 4, 4, 5, 5, 0, 0, 0, 0, 0, 0, 0, 0, 0, 0, 0, 0, 0, 0, 0, 0, 0, 0, 0, 0, 0, 0, 0, 0, 0, 0, 0, 0, 0, 0, 0, 0, 0, 0, 0, 0, 0, 0, 0, 0, 0, 0, 0, 0, 0, 0, 0, 0, 0, 0, 0, 0, 0, 0, 0, 0, 1, 1, 1, 1, 1, 1, 1, 1, 1, 1, 1, 1, 1, 1, 1, 1, 1, 1, 1, 1, 1, 1, 1, 1, 1, 1, 1, 1, 1, 1, 1, 1, 1, 1, 1, 1, 2, 2, 2, 2, 2, 2, 2, 2, 2, 3, 3, 3, 3, 3, 3, 3, 3, 3, 3, 3, 3, 3, 3, 3]\n",
      "merge from  0  to  26  angle diff =  0.4043070592055671\n",
      "merge from  0  to  35  angle diff =  0.5782761890703672\n",
      "merge from  50  to  58  angle diff =  0.10874263605321954\n",
      "merge from  50  to  70  angle diff =  0.02073492773304131\n",
      "merge from  70  to  125  angle diff =  0.18295019702218496\n",
      "merge from  125  to  179  angle diff =  0.1946138668669899\n",
      "merge from  125  to  232  angle diff =  0.38796739550732817\n",
      "merge from  232  to  315  angle diff =  0.3321262661309674\n",
      "merge from  232  to  317  angle diff =  0.4928996247132478\n",
      "merge from  317  to  374  angle diff =  0.4661935312366121\n",
      "merge from  317  to  411  angle diff =  0.24813403832692815\n",
      "merge from  411  to  435  angle diff =  0.4069626329149372\n",
      "collected:  [0, 3, 0, 3, 0] [(50, 70), (70, 125), (125, 232), (232, 317), (317, 411)]\n",
      "ignore start, ratio:  0.17655780024021214\n",
      "collected:  [3, 0, 3, 0] [(70, 125), (125, 232), (232, 317), (317, 411)]\n",
      "[3, 0, 3, 0]\n"
     ]
    },
    {
     "data": {
      "image/png": "[encoded data removed]",
      "text/plain": [
       "<Figure size 432x288 with 1 Axes>"
      ]
     },
     "metadata": {
      "needs_background": "light"
     },
     "output_type": "display_data"
    }
   ],
   "source": [
    "from Plot import *\n",
    "person = 'zyw'\n",
    "ch = 'w'\n",
    "rep = 2\n",
    "path = np.load('study2/{person}/{ch}_{rep}.npy'.format(person=person,ch=ch,rep=rep))\n",
    "plotDirections6(path,person, LETTER.index(ch),rep)"
   ]
  },
  {
   "cell_type": "code",
   "execution_count": 284,
   "metadata": {},
   "outputs": [],
   "source": [
    "ANGLE_THRESHOLD = np.pi / 4\n",
    "ANGLE_THRESHOLD_2 = np.pi / 10\n",
    "MERGE_THRESHOLD = 15\n",
    "MERGE_DIST_THRESHOLD = 1\n",
    "HV_THRESHOLD = 0.6\n",
    "HV_AVG_THRESHOLD = 0.5\n",
    "\n",
    "def angleDiff(u, v):\n",
    "    ang1 = np.arctan2(u[1], u[0])\n",
    "    ang2 = np.arctan2(v[1], v[0])\n",
    "    return 2 * np.pi - abs(ang1 -\n",
    "                            ang2) if abs(ang1 -\n",
    "                                        ang2) >= np.pi else abs(ang1 -\n",
    "                                                                ang2)\n",
    "\n",
    "# smooth the path\n",
    "x, y, d = getAveragePath(path,False)\n",
    "x = gaussian_filter1d(x, sigma=8)\n",
    "y = gaussian_filter1d(y, sigma=8)\n",
    "d = gaussian_filter1d(d, sigma=8)\n",
    "\n",
    "# collecting extrema points of pressure\n",
    "d=np.array(d)\n",
    "clamped_d = (d - np.min(d)) / (np.max(d) - np.min(d))\n",
    "pressure_persistence_pairs = sorted(\n",
    "    [t for t in RunPersistence(clamped_d) if t[1] > 0.05],\n",
    "    key=lambda x: x[0])\n",
    "pre_collected_corners=[int(ppp[0]) for ppp in pressure_persistence_pairs]\n",
    "if pre_collected_corners[0] - 0 > MERGE_THRESHOLD:\n",
    "    pre_collected_corners.insert(0,0)\n",
    "if len(x) - 1 - pre_collected_corners[-1] > MERGE_THRESHOLD:\n",
    "    pre_collected_corners.append(len(x) - 1)\n",
    "\n",
    "# filter the turning points that seperates angles\n",
    "debug_dir = []\n",
    "debug_dir.append(pre_collected_corners[0])\n",
    "for u,v in list(zip(pre_collected_corners[:-1],pre_collected_corners[1:])):\n",
    "    i = u+1\n",
    "    while i < v:\n",
    "        cur_v = (x[i] - x[i - 1], y[i] - y[i - 1])\n",
    "        j = i\n",
    "        while j < v and angleDiff(\n",
    "            (x[j] - x[j - 1], y[j] - y[j - 1]),\n",
    "                cur_v) < ANGLE_THRESHOLD and angleDiff(\n",
    "                    (x[j] - x[j - 1], y[j] - y[j - 1]),\n",
    "                    (x[i] - x[i - 1], y[i] - y[i - 1])) < ANGLE_THRESHOLD:\n",
    "            cur_v = (x[j] - x[i - 1], y[j] - y[i - 1])\n",
    "            j += 1\n",
    "        debug_dir.append(j-1)\n",
    "        i = j\n",
    "\n",
    "# merge redundant points caused by overreact\n",
    "real_debug_dir=[]\n",
    "for dd in debug_dir:\n",
    "    if len(real_debug_dir)<=1:\n",
    "        real_debug_dir.append(dd)\n",
    "        continue\n",
    "    if angleDiff((x[real_debug_dir[-1]]-x[real_debug_dir[-2]],y[real_debug_dir[-1]]-y[real_debug_dir[-2]]),(x[dd]-x[real_debug_dir[-1]],y[dd]-y[real_debug_dir[-1]])) <= ANGLE_THRESHOLD_2:\n",
    "        real_debug_dir[-1]=dd\n",
    "    else:\n",
    "        real_debug_dir.append(dd)\n",
    "debug_dir=real_debug_dir\n",
    "\n",
    "# i = 1\n",
    "# while i < len(x):\n",
    "#     cur_v = (x[i] - x[i - 1], y[i] - y[i - 1])\n",
    "#     j = i\n",
    "#     while j < len(x) and angleDiff(\n",
    "#         (x[j] - x[j - 1], y[j] - y[j - 1]),\n",
    "#             cur_v) < ANGLE_THRESHOLD and angleDiff(\n",
    "#                 (x[j] - x[j - 1], y[j] - y[j - 1]),\n",
    "#                 (x[i] - x[i - 1], y[i] - y[i - 1])) < ANGLE_THRESHOLD:\n",
    "#         cur_v = (x[j] - x[i - 1], y[j] - y[i - 1])\n",
    "#         j += 1\n",
    "#     debug_dir.append(j-1)\n",
    "#     i = j\n",
    "\n",
    "# merge points that are enough close to each other\n",
    "i = 0\n",
    "simplified_dir = []\n",
    "while i < len(debug_dir):\n",
    "    t = []\n",
    "    lat = debug_dir[i]\n",
    "    while i < len(debug_dir) and (debug_dir[i] - lat < MERGE_THRESHOLD or (x[debug_dir[i]]-x[lat])**2+(y[debug_dir[i]]-y[lat])**2<MERGE_DIST_THRESHOLD):\n",
    "        t.append(debug_dir[i])\n",
    "        lat = debug_dir[i]\n",
    "        i += 1\n",
    "    simplified_dir.append(int(np.mean(t)))\n",
    "\n",
    "# calculate the average of x/y offsets\n",
    "x_avg, y_avg = 0, 0\n",
    "for u, v in list(zip(simplified_dir[:-1], simplified_dir[1:])):\n",
    "    if abs(x[v] - x[u]) > abs(y[v] - y[u]):\n",
    "        x_avg += abs(x[v] - x[u])\n",
    "    else:\n",
    "        y_avg += abs(y[v] - y[u])\n",
    "x_avg = x_avg / (len(simplified_dir) - 1)\n",
    "y_avg = y_avg / (len(simplified_dir) - 1)\n",
    "\n",
    "# filter the turning points that are far enough to each other\n",
    "filtered_dir = []\n",
    "for sd in simplified_dir:\n",
    "    if len(filtered_dir) <= 0:\n",
    "        filtered_dir.append(sd)\n",
    "        continue\n",
    "    x_off = abs(x[sd] - x[filtered_dir[-1]])\n",
    "    y_off = abs(y[sd] - y[filtered_dir[-1]])\n",
    "    if x_off > y_off and x_off > x_avg * HV_AVG_THRESHOLD and x_off > HV_THRESHOLD:\n",
    "        filtered_dir.append(sd)\n",
    "    elif y_off > x_off and y_off > y_avg * HV_AVG_THRESHOLD and y_off > HV_THRESHOLD:\n",
    "        filtered_dir.append(sd)\n",
    "    elif x_off == y_off and (\n",
    "        (x_off > x_avg * HV_AVG_THRESHOLD and x_off > HV_THRESHOLD) or\n",
    "        (y_off > y_avg * HV_AVG_THRESHOLD and y_off > HV_THRESHOLD)):\n",
    "        filtered_dir.append(sd)"
   ]
  },
  {
   "cell_type": "code",
   "execution_count": 285,
   "metadata": {},
   "outputs": [
    {
     "data": {
      "text/plain": [
       "[0, 25, 44, 76, 96]"
      ]
     },
     "execution_count": 285,
     "metadata": {},
     "output_type": "execute_result"
    },
    {
     "data": {
      "image/png": "[encoded data removed]",
      "text/plain": [
       "<Figure size 432x288 with 4 Axes>"
      ]
     },
     "metadata": {
      "needs_background": "light"
     },
     "output_type": "display_data"
    }
   ],
   "source": [
    "%matplotlib inline\n",
    "fig, axes=plt.subplots(1,4)\n",
    "for i, l in enumerate([pre_collected_corners,debug_dir,simplified_dir,filtered_dir]):\n",
    "    axes[i].axis(\"scaled\")\n",
    "    axes[i].set_xlim(10, 17)\n",
    "    axes[i].set_ylim(15, 25)\n",
    "    axes[i].scatter(x,y)\n",
    "    for f_d in l:\n",
    "        axes[i].scatter([x[f_d]],[y[f_d]],c='red')\n",
    "        axes[i].text(x[f_d],y[f_d],str(f_d))\n",
    "simplified_dir"
   ]
  },
  {
   "cell_type": "code",
   "execution_count": 138,
   "metadata": {},
   "outputs": [
    {
     "name": "stdout",
     "output_type": "stream",
     "text": [
      "2.1891824257336694\n",
      "2.3254409128634848\n"
     ]
    }
   ],
   "source": [
    "i=0\n",
    "j=30\n",
    "print(x[i]-x[j])\n",
    "print(y[i]-y[j])\n"
   ]
  },
  {
   "cell_type": "code",
   "execution_count": 6,
   "metadata": {},
   "outputs": [],
   "source": [
    "from Plot import *\n",
    "\n",
    "def angleDist(ang1, ang2):\n",
    "    return 1 - (np.dot(ang1, ang2) / np.linalg.norm(ang1) /\n",
    "                np.linalg.norm(ang2))\n",
    "\n",
    "usr_angles = []\n",
    "std_angles = []\n",
    "for dir in os.listdir(BASE_DIR):\n",
    "    if not 'letter_' in dir or not os.path.isdir(\n",
    "            os.path.join(BASE_DIR, dir)):\n",
    "        continue\n",
    "    for t_l_i, t_l in enumerate(LETTER):\n",
    "        for rep in range(5):\n",
    "            try:\n",
    "                path = np.load(\n",
    "                    os.path.join(BASE_DIR, dir, \"%s_%d.npy\" % (t_l, rep)))\n",
    "\n",
    "                x, y, d = getAveragePath(path, align_to_first=False)\n",
    "                corners = getCorners(path)\n",
    "                directions_index, redundant_8directions, weights = get8Directions(\n",
    "                    path)\n",
    "                identified_directions_index = []\n",
    "\n",
    "                path_directions = [\n",
    "                    np.array([\n",
    "                        np.cos(EIGHT_DIRECTIONS[i]),\n",
    "                        np.sin(EIGHT_DIRECTIONS[i])\n",
    "                    ]) for i in redundant_8directions\n",
    "                ]\n",
    "                std_directions = [\n",
    "                    np.array([\n",
    "                        np.cos(EIGHT_DIRECTIONS[i]),\n",
    "                        np.sin(EIGHT_DIRECTIONS[i])\n",
    "                    ]) for i in DIRECTION_PATTERN8[t_l]\n",
    "                ]\n",
    "                paths = dtw_ndim.warping_path(path_directions,\n",
    "                                                std_directions)\n",
    "                idx = 0\n",
    "                while idx < len(paths):\n",
    "                    match_list = []\n",
    "                    current_std_idx = paths[idx][1]\n",
    "                    while idx < len(\n",
    "                            paths) and paths[idx][1] == current_std_idx:\n",
    "                        match_list.append(paths[idx][0])\n",
    "                        idx += 1\n",
    "                    identified_directions_index.append(\n",
    "                        directions_index[match_list[np.argmin([\n",
    "                            angleDist(path_directions[m_l],\n",
    "                                        std_directions[current_std_idx])\n",
    "                            for m_l in match_list\n",
    "                        ])]])\n",
    "\n",
    "                # plt.axis(\"scaled\")\n",
    "                # plt.xlim(10, 17)\n",
    "                # plt.ylim(15, 25)\n",
    "                # plt.scatter(x, y, c='blue')\n",
    "                # for _, corner in enumerate(corners):\n",
    "                #     plt.scatter([x[corner]], [y[corner]], c='red')\n",
    "                #     plt.text(x[corner], y[corner], str(_))\n",
    "                # for iu, iv in identified_directions_index:\n",
    "                #     plt.plot([x[iu], x[iv]], [y[iu], y[iv]], c='green')\n",
    "                # plt.show()\n",
    "\n",
    "                std_angles_set = [\n",
    "                    EIGHT_DIRECTIONS[i] for i in DIRECTION_PATTERN8[t_l]\n",
    "                ]\n",
    "                if(len(std_angles_set)<2):\n",
    "                    continue\n",
    "                for (usr, std) in list(zip(zip(identified_directions_index[1:],identified_directions_index[:-1]),zip(std_angles_set[1:],std_angles_set[:-1]))):\n",
    "                    def angleDiff(ang1,ang2):\n",
    "                        return 2 * np.pi - abs(ang1 -\n",
    "                            ang2) if abs(ang1 -\n",
    "                                        ang2) >= np.pi else abs(ang1 -\n",
    "                                                                ang2)\n",
    "                    def included_angle(x1,y1,x2,y2):\n",
    "                        u=np.array([x1,y1])\n",
    "                        v=np.array([x2,y2])\n",
    "                        return np.arccos(np.clip(np.dot(u,v)/np.linalg.norm(u)/np.linalg.norm(v),-1,1))\n",
    "                    std_angles.append(angleDiff(std[0],std[1]))\n",
    "                    usr_angles.append(included_angle(x[usr[0][1]]-x[usr[0][0]], y[usr[0][1]]-y[usr[0][0]], x[usr[1][1]]-x[usr[1][0]], y[usr[1][1]]-y[usr[1][0]]))\n",
    "            except Exception as e:\n",
    "                print(str(e))"
   ]
  },
  {
   "cell_type": "code",
   "execution_count": 7,
   "metadata": {},
   "outputs": [
    {
     "data": {
      "image/png": "[encoded data removed]",
      "text/plain": [
       "<Figure size 432x288 with 1 Axes>"
      ]
     },
     "metadata": {
      "needs_background": "light"
     },
     "output_type": "display_data"
    },
    {
     "name": "stdout",
     "output_type": "stream",
     "text": [
      "                  sum_sq      df           F         PR(>F)\n",
      "C(std_angle)  473.125904     3.0  655.061748  1.014832e-248\n",
      "Residual      278.311445  1156.0         NaN            NaN\n",
      "           Multiple Comparison of Means - Tukey HSD, FWER=0.05           \n",
      "=========================================================================\n",
      "      group1             group2       meandiff p-adj lower  upper  reject\n",
      "-------------------------------------------------------------------------\n",
      "0.7853981633974483 1.5707963267948966   0.9553  -0.0 0.7784 1.1322   True\n",
      "0.7853981633974483  2.356194490192345   1.8719  -0.0 1.7179 2.0259   True\n",
      "0.7853981633974483  3.141592653589793    2.264  -0.0 2.1123 2.4156   True\n",
      "1.5707963267948966  2.356194490192345   0.9166  -0.0 0.7934 1.0398   True\n",
      "1.5707963267948966  3.141592653589793   1.3087  -0.0 1.1885 1.4289   True\n",
      " 2.356194490192345  3.141592653589793   0.3921  -0.0 0.3092 0.4749   True\n",
      "-------------------------------------------------------------------------\n"
     ]
    }
   ],
   "source": [
    "%matplotlib inline\n",
    "df = pd.DataFrame({\n",
    "    'std_angle': std_angles,\n",
    "    'usr_angle': usr_angles\n",
    "})\n",
    "fig, axes = plt.subplots()\n",
    "# sns.boxplot(x='std_angle', y='usr_angle', hue='order', data=df, ax=axes)\n",
    "sns.boxplot(x='std_angle', y='usr_angle', data=df, ax=axes)\n",
    "plt.show()\n",
    "model = ols('usr_angle~C(std_angle)', data=df).fit()\n",
    "anova_table = anova_lm(model, typ=2)\n",
    "print(anova_table)\n",
    "mc = MultiComparison(usr_angles, std_angles)\n",
    "print(mc.tukeyhsd())"
   ]
  },
  {
   "cell_type": "code",
   "execution_count": 9,
   "metadata": {},
   "outputs": [
    {
     "name": "stdout",
     "output_type": "stream",
     "text": [
      "           Multiple Comparison of Means - Tukey HSD, FWER=0.05           \n",
      "=========================================================================\n",
      "      group1             group2       meandiff p-adj lower  upper  reject\n",
      "-------------------------------------------------------------------------\n",
      "               0.0 0.7853981633974483    0.669   0.0 0.4639  0.874   True\n",
      "               0.0 1.5707963267948966   1.6242   0.0 1.4425  1.806   True\n",
      "               0.0  2.356194490192345   2.5409   0.0 2.3827 2.6991   True\n",
      "               0.0  3.141592653589793   2.9329   0.0 2.7772 3.0887   True\n",
      "0.7853981633974483 1.5707963267948966   0.9553   0.0 0.7735  1.137   True\n",
      "0.7853981633974483  2.356194490192345   1.8719   0.0 1.7137 2.0301   True\n",
      "0.7853981633974483  3.141592653589793    2.264   0.0 2.1082 2.4197   True\n",
      "1.5707963267948966  2.356194490192345   0.9166   0.0 0.7901 1.0432   True\n",
      "1.5707963267948966  3.141592653589793   1.3087   0.0 1.1852 1.4321   True\n",
      " 2.356194490192345  3.141592653589793   0.3921   0.0  0.307 0.4771   True\n",
      "-------------------------------------------------------------------------\n"
     ]
    }
   ],
   "source": [
    "std_ang = np.pi / 4\n",
    "l=[]\n",
    "for id in np.where(np.array(std_angles) == std_ang)[0]:\n",
    "    l.append(usr_angles[id])\n",
    "inserted_len = len(l)\n",
    "usr_angles1=usr_angles\n",
    "std_angles1=std_angles\n",
    "for i in range(inserted_len):\n",
    "    usr_angles1.append(0)\n",
    "    std_angles1.append(0)\n",
    "mc = MultiComparison(usr_angles, std_angles)\n",
    "print(mc.tukeyhsd())"
   ]
  },
  {
   "cell_type": "code",
   "execution_count": 5,
   "metadata": {},
   "outputs": [],
   "source": [
    "from Plot import *\n",
    "\n",
    "\n",
    "def angleDist(ang1, ang2):\n",
    "    return 1 - (np.dot(ang1, ang2) / np.linalg.norm(ang1) /\n",
    "                np.linalg.norm(ang2))\n",
    "pressure_dict = [[[[] for ___ in range(8)] for _ in range(5)]\n",
    "                    for __ in range(5)]\n",
    "\n",
    "for dir in os.listdir(BASE_DIR):\n",
    "    if not 'letter_' in dir or not os.path.isdir(\n",
    "            os.path.join(BASE_DIR, dir)):\n",
    "        continue\n",
    "    for t_l_i, t_l in enumerate(LETTER):\n",
    "        for rep in range(5):\n",
    "            try:\n",
    "                path = np.load(\n",
    "                    os.path.join(BASE_DIR, dir, \"%s_%d.npy\" % (t_l, rep)))\n",
    "\n",
    "                x, y, d = getAveragePath(path, align_to_first=False)\n",
    "                corners = getCorners(path)\n",
    "                directions_index, redundant_8directions, weights = get8Directions(\n",
    "                    path)\n",
    "                identified_directions_index = []\n",
    "\n",
    "                path_directions = [\n",
    "                    np.array([\n",
    "                        np.cos(EIGHT_DIRECTIONS[i]),\n",
    "                        np.sin(EIGHT_DIRECTIONS[i])\n",
    "                    ]) for i in redundant_8directions\n",
    "                ]\n",
    "                std_directions = [\n",
    "                    np.array([\n",
    "                        np.cos(EIGHT_DIRECTIONS[i]),\n",
    "                        np.sin(EIGHT_DIRECTIONS[i])\n",
    "                    ]) for i in DIRECTION_PATTERN8[t_l]\n",
    "                ]\n",
    "                paths = dtw_ndim.warping_path(path_directions,\n",
    "                                                std_directions)\n",
    "                idx = 0\n",
    "                while idx < len(paths):\n",
    "                    match_list = []\n",
    "                    current_std_idx = paths[idx][1]\n",
    "                    while idx < len(\n",
    "                            paths) and paths[idx][1] == current_std_idx:\n",
    "                        match_list.append(paths[idx][0])\n",
    "                        idx += 1\n",
    "                    identified_directions_index.append(\n",
    "                        directions_index[match_list[np.argmin([\n",
    "                            angleDist(path_directions[m_l],\n",
    "                                        std_directions[current_std_idx])\n",
    "                            for m_l in match_list\n",
    "                        ])]])\n",
    "\n",
    "                # plt.axis(\"scaled\")\n",
    "                # plt.xlim(10, 17)\n",
    "                # plt.ylim(15, 25)\n",
    "                for ix, (iu, iv) in enumerate(identified_directions_index):\n",
    "                    pressure_list = d[iu:iv]\n",
    "                    pressure_dict[len(std_directions) - 1][ix][\n",
    "                        DIRECTION_PATTERN8[t_l][ix]].append(pressure_list)\n",
    "            except Exception as e:\n",
    "                print(str(e))"
   ]
  },
  {
   "cell_type": "code",
   "execution_count": 10,
   "metadata": {},
   "outputs": [
    {
     "data": {
      "image/png": "[encoded data removed]",
      "text/plain": [
       "<Figure size 432x288 with 25 Axes>"
      ]
     },
     "metadata": {
      "needs_background": "light"
     },
     "output_type": "display_data"
    }
   ],
   "source": [
    "fig, axes = plt.subplots(5, 5)\n",
    "for total_stroke_num in range(5):\n",
    "    for stroke_idx in range(5):\n",
    "        for stroke_dir in range(8):\n",
    "            pressure_list = pressure_dict[total_stroke_num][stroke_idx][\n",
    "                stroke_dir]\n",
    "            if len(pressure_list) <= 0:\n",
    "                continue\n",
    "            for p_l in pressure_list:\n",
    "                axes[total_stroke_num][stroke_idx].plot(\n",
    "                    list(range(len(p_l))),\n",
    "                    p_l,\n",
    "                    c=COLORS[stroke_dir])\n",
    "plt.show()"
   ]
  },
  {
   "cell_type": "code",
   "execution_count": 290,
   "metadata": {},
   "outputs": [
    {
     "data": {
      "image/png": "[encoded data removed]",
      "text/plain": [
       "<Figure size 432x288 with 1 Axes>"
      ]
     },
     "metadata": {
      "needs_background": "light"
     },
     "output_type": "display_data"
    }
   ],
   "source": [
    "%matplotlib inline\n",
    "angles = [(i - 4) * np.pi / 4 for i in range(8)]\n",
    "data = [0,1,2,3,4,5,6,7]\n",
    "fig = plt.figure()\n",
    "ax = plt.subplot(111, polar=True)\n",
    "ax.set_theta_zero_location('E')\n",
    "ax.plot(angles,data)\n",
    "plt.show()"
   ]
  },
  {
   "cell_type": "code",
   "execution_count": 1,
   "metadata": {},
   "outputs": [],
   "source": [
    "from Plot import *\n",
    "path_dict = [{} for _ in range(5)]\n",
    "for dir in os.listdir(BASE_DIR):\n",
    "    if dir == 'test':\n",
    "        continue\n",
    "    for k, num_d in enumerate([4,6,8,10,12]):\n",
    "        paths = [[] for _ in range(int(num_d))]\n",
    "        for i, c in enumerate(DIRECTIONS_MAP[str(num_d)]):\n",
    "            for j in range(5):\n",
    "                path = np.load(\n",
    "                    os.path.join(BASE_DIR, dir, '0',str(num_d),\n",
    "                                    str(i) + '_{}.npy'.format(j)))\n",
    "                x, y, d = getAveragePath(path)\n",
    "                paths[i].append((x, y, d))\n",
    "        path_dict[k][dir]=paths"
   ]
  },
  {
   "cell_type": "code",
   "execution_count": 20,
   "metadata": {},
   "outputs": [
    {
     "data": {
      "image/png": "[encoded data removed]",
      "text/plain": [
       "<Figure size 432x288 with 1 Axes>"
      ]
     },
     "metadata": {
      "needs_background": "light"
     },
     "output_type": "display_data"
    },
    {
     "name": "stdout",
     "output_type": "stream",
     "text": [
      "                  sum_sq     df           F         PR(>F)\n",
      "C(std_angle)  881.602371    3.0  687.881425  8.713332e-133\n",
      "Residual      126.025935  295.0         NaN            NaN\n",
      "            Multiple Comparison of Means - Tukey HSD, FWER=0.05            \n",
      "===========================================================================\n",
      "       group1              group2       meandiff p-adj lower  upper  reject\n",
      "---------------------------------------------------------------------------\n",
      " -3.141592653589793 -1.5707963267948966   1.8127  -0.0  1.537 2.0885   True\n",
      " -3.141592653589793                 0.0   3.2475  -0.0 2.9717 3.5233   True\n",
      " -3.141592653589793  1.5707963267948966   4.6359  -0.0 4.3592 4.9126   True\n",
      "-1.5707963267948966                 0.0   1.4348  -0.0  1.159 1.7105   True\n",
      "-1.5707963267948966  1.5707963267948966   2.8232  -0.0 2.5465 3.0999   True\n",
      "                0.0  1.5707963267948966   1.3884  -0.0 1.1117 1.6651   True\n",
      "---------------------------------------------------------------------------\n"
     ]
    }
   ],
   "source": [
    "usr_angles = []\n",
    "std_angles = []\n",
    "num_d = 4\n",
    "for name, paths in path_dict[[4,6,8,10,12].index(num_d)].items():\n",
    "    for i, c in enumerate(DIRECTIONS_MAP[str(num_d)]):\n",
    "        for j in range(5):\n",
    "            x, y, d = paths[i][j]\n",
    "            if len(d) <= 0:\n",
    "                continue\n",
    "            x = gaussian_filter1d(x, sigma=5)\n",
    "            y = gaussian_filter1d(y, sigma=5)\n",
    "            corners = getCorners(x, y, d)\n",
    "            start, end = getLongestDirection(x, y, d, corners)\n",
    "            if end < 0:\n",
    "                continue\n",
    "            angle = np.arctan2(y[end] - y[start], x[end] - x[start])\n",
    "            # if angle > (DIRECTIONS_MAP[args.direction][-1] + np.pi) / 2:\n",
    "            if c == -np.pi and angle > 0:\n",
    "                angle -= 2 * np.pi\n",
    "            usr_angles.append(angle)\n",
    "            std_angles.append(c)\n",
    "df = pd.DataFrame({'std_angle': std_angles, 'usr_angle': usr_angles})\n",
    "fig, axes = plt.subplots()\n",
    "sns.boxplot(x='std_angle', y='usr_angle', data=df, ax=axes)\n",
    "plt.show()\n",
    "df = pd.DataFrame({'std_angle': std_angles, 'usr_angle': usr_angles})\n",
    "model = ols('usr_angle~C(std_angle)', data=df).fit()\n",
    "anova_table = anova_lm(model, typ=2)\n",
    "print(anova_table)\n",
    "mc = MultiComparison(usr_angles, std_angles)\n",
    "print(mc.tukeyhsd())"
   ]
  },
  {
   "cell_type": "code",
   "execution_count": 19,
   "metadata": {},
   "outputs": [
    {
     "data": {
      "text/plain": [
       "0.7425035941144074"
      ]
     },
     "execution_count": 19,
     "metadata": {},
     "output_type": "execute_result"
    },
    {
     "data": {
      "image/png": "[encoded data removed]",
      "text/plain": [
       "<Figure size 432x288 with 1 Axes>"
      ]
     },
     "metadata": {
      "needs_background": "light"
     },
     "output_type": "display_data"
    }
   ],
   "source": [
    "%matplotlib inline\n",
    "from Plot import *\n",
    "path = np.load('study2/pilot4/v_3.npy')\n",
    "x, y, d = getAveragePath(path)\n",
    "x = gaussian_filter1d(x, sigma=8)\n",
    "y = gaussian_filter1d(y, sigma=8)\n",
    "plt.axis('scaled')\n",
    "plt.xlim(-10,10)\n",
    "plt.ylim(-10,10)\n",
    "lo, hi = 47, 85\n",
    "plt.scatter(x[lo:hi],y[lo:hi])\n",
    "slope, intercept, r_value, p_value, std_err = stats.linregress(x[lo:hi],y[lo:hi])\n",
    "r_value**2"
   ]
  },
  {
   "cell_type": "code",
   "execution_count": 1,
   "metadata": {},
   "outputs": [
    {
     "name": "stdout",
     "output_type": "stream",
     "text": [
      "cly 8 0 8\n",
      "djy 11 2 1\n",
      "fjl 86 0 25\n",
      "gyf 1 0 13\n",
      "jyw 9 1 16\n",
      "ljy 11 0 38\n",
      "lly 7 0 2\n",
      "lm 10 0 5\n",
      "mhb 5 0 16\n",
      "stp 31 1 3\n",
      "wsw 13 0 4\n",
      "ykh 10 0 61\n",
      "ytj 3 0 3\n",
      "yxy 17 0 7\n",
      "yyq 31 0 22\n",
      "zxw 29 0 4\n",
      "zyw 12 0 15\n"
     ]
    }
   ],
   "source": [
    "import numpy as np\n",
    "\n",
    "from Plot import valid_study2_data, STUDY2_DIR\n",
    "\n",
    "error_data_filenames = np.load(os.path.join(STUDY2_DIR, 'error.npy'))\n",
    "zero_data_filenames = np.load(os.path.join(STUDY2_DIR, 'zero.npy'))\n",
    "overlap_data_filenames = np.load(os.path.join(STUDY2_DIR, 'overlap.npy'))\n",
    "for pers in valid_study2_data:\n",
    "    error_n = 0\n",
    "    zero_n = 0\n",
    "    overlap_n = 0\n",
    "    for e in error_data_filenames:\n",
    "        if pers in e:\n",
    "            error_n+=1\n",
    "    for t in zero_data_filenames:\n",
    "        if pers in t:\n",
    "            zero_n+=1\n",
    "    for o in overlap_data_filenames:\n",
    "        if pers in o:\n",
    "            overlap_n+=1\n",
    "    print(pers, error_n,zero_n,overlap_n)"
   ]
  },
  {
   "cell_type": "code",
   "execution_count": 5,
   "metadata": {},
   "outputs": [],
   "source": [
    "import numpy as np\n",
    "from Plot import *\n",
    "%matplotlib qt5\n",
    "pressure = np.load('study2/se_pressure.npy')\n",
    "speed = np.load('study2/se_speed.npy')\n",
    "label1 = np.load('study2/se_label1.npy')\n",
    "label2 = np.load('study2/se_label2.npy')\n",
    "fig, axes = plt.subplots(1, 2)\n",
    "df = pd.DataFrame({\n",
    "    'pressure': pressure,\n",
    "    'label1': label1,\n",
    "})\n",
    "sns.boxplot(x='label1', y='pressure', data=df, ax=axes[0])\n",
    "df = pd.DataFrame({\n",
    "    'speed': speed,\n",
    "    'label2': label2,\n",
    "})\n",
    "sns.boxplot(x='label2', y='speed', data=df, ax=axes[1])\n",
    "plt.show()"
   ]
  },
  {
   "cell_type": "code",
   "execution_count": 2,
   "metadata": {},
   "outputs": [],
   "source": [
    "import numpy as np\n",
    "from Plot import *\n",
    "%matplotlib qt5\n",
    "pressure = np.load('study2/se_pressure.npy')\n",
    "speed = np.load('study2/se_speed.npy')\n",
    "label1 = np.load('study2/se_label1.npy')\n",
    "label2 = np.load('study2/se_label2.npy')\n",
    "pressure_nan = np.isnan(pressure)\n",
    "speed_nan = np.isnan(speed)\n",
    "stroke_avg = []\n",
    "stroke_max = []\n",
    "start_max = []\n",
    "end_max = []\n",
    "fig, axes = plt.subplots(1, 2)\n",
    "for i in range(0,len(pressure),4):\n",
    "    if not pressure_nan[i]:\n",
    "        axes[0].scatter([i],[pressure[i]],c='red',alpha=0.01)\n",
    "    if not pressure_nan[i+1]:\n",
    "        axes[0].scatter([i],[pressure[i+1]],c='blue',alpha=0.01)\n",
    "    if not pressure_nan[i+2]:\n",
    "        axes[0].scatter([i],[pressure[i+2]],c='green',alpha=0.01)\n",
    "    if not pressure_nan[i+3]:\n",
    "        axes[0].scatter([i],[pressure[i+3]],c='purple',alpha=0.01)\n",
    "    if not speed_nan[i]:\n",
    "        axes[1].scatter([i],[speed[i]],c='red',alpha=0.01)\n",
    "    if not speed_nan[i+1]:\n",
    "        axes[1].scatter([i],[speed[i+1]],c='blue',alpha=0.01)\n",
    "    if not speed_nan[i+2]:\n",
    "        axes[1].scatter([i],[speed[i+2]],c='green',alpha=0.01)\n",
    "    if not speed_nan[i+3]:\n",
    "        axes[1].scatter([i],[speed[i+3]],c='purple',alpha=0.01)"
   ]
  },
  {
   "cell_type": "code",
   "execution_count": 11,
   "metadata": {},
   "outputs": [
    {
     "name": "stdout",
     "output_type": "stream",
     "text": [
      "87.09359782613936\n",
      "488.4760954964612\n",
      "161.07815696722417\n",
      "363.2327818907754\n"
     ]
    }
   ],
   "source": [
    "print(np.average(pressure[np.arange(\n",
    "    0, len(pressure),\n",
    "    4)][np.where(~np.isnan(pressure[np.arange(0, len(pressure), 4)]))]))\n",
    "print(np.average(pressure[np.arange(\n",
    "    1, len(pressure),\n",
    "    4)][np.where(~np.isnan(pressure[np.arange(1, len(pressure), 4)]))]))\n",
    "print(np.average(pressure[np.arange(\n",
    "    2, len(pressure),\n",
    "    4)][np.where(~np.isnan(pressure[np.arange(2, len(pressure), 4)]))]))\n",
    "print(np.average(pressure[np.arange(\n",
    "    3, len(pressure),\n",
    "    4)][np.where(~np.isnan(pressure[np.arange(3, len(pressure), 4)]))]))\n"
   ]
  },
  {
   "cell_type": "code",
   "execution_count": 10,
   "metadata": {},
   "outputs": [
    {
     "data": {
      "image/png": "[encoded data removed]",
      "text/plain": [
       "<Figure size 432x288 with 1 Axes>"
      ]
     },
     "metadata": {
      "needs_background": "light"
     },
     "output_type": "display_data"
    }
   ],
   "source": [
    "from constants import *\n",
    "\n",
    "person = 'cly'\n",
    "t_l = 'a'\n",
    "rep = 0\n",
    "\n",
    "offset_dict = json.load(open('offset.json', 'r'))\n",
    "offset = offset_dict['cly']\n",
    "path_name = os.path.join(STUDY2_DIR, person + '1',\n",
    "                            t_l + '_' + str(rep) + '.npy')\n",
    "personal = False\n",
    "if not os.path.exists(path_name):\n",
    "    path_name = os.path.join(STUDY2_DIR, person,\n",
    "                                t_l + '_' + str(rep) + '.npy')\n",
    "    personal = True\n",
    "path = np.load(path_name)\n",
    "\n",
    "points_x = []\n",
    "points_y = []\n",
    "depths = []\n",
    "threshold = 0\n",
    "\n",
    "for frame in path:\n",
    "    sum_force = 0\n",
    "    x_average = 0\n",
    "    y_average = 0\n",
    "    for y_coordinate in range(len(frame)):\n",
    "        for x_coordinate in range(len(frame[y_coordinate])):\n",
    "            sum_force += frame[y_coordinate][x_coordinate]\n",
    "    if sum_force > threshold:\n",
    "        for y_coordinate in range(len(frame)):\n",
    "            for x_coordinate in range(len(\n",
    "                    frame[y_coordinate])):\n",
    "                rate = frame[y_coordinate][\n",
    "                    x_coordinate] / sum_force\n",
    "                x_average += rate * x_coordinate\n",
    "                y_average += rate * y_coordinate\n",
    "        points_x.append(x_average)\n",
    "        points_y.append(35 - y_average)\n",
    "        depths.append(sum_force)\n",
    "plt.scatter(points_x,points_y)\n",
    "cx = np.average(points_x)\n",
    "cy = np.average(points_y)\n",
    "if personal:\n",
    "    x = []\n",
    "    y = []\n",
    "    for ii in range(len(points_x)):\n",
    "        xx = points_x[ii]\n",
    "        yy = points_y[ii]\n",
    "        r = np.linalg.norm((xx - cx, yy - cy))\n",
    "        theta = np.arctan2(yy - cy, xx - cx)\n",
    "        theta = theta + offset\n",
    "        x.append(cx + r * np.cos(theta))\n",
    "        y.append(cy + r * np.sin(theta))\n",
    "    plt.scatter(x, y)"
   ]
  },
  {
   "cell_type": "code",
   "execution_count": 8,
   "metadata": {},
   "outputs": [
    {
     "name": "stdout",
     "output_type": "stream",
     "text": [
      "13.740458015267171\n",
      "3.4815913095431443\n"
     ]
    }
   ],
   "source": [
    "from constants import *\n",
    "person = 'ysq'\n",
    "\n",
    "meta = json.load(open(os.path.join(STUDY3_DIR, person, 'meta.json')))\n",
    "seconds = 0\n",
    "for filename in os.listdir(os.path.join(STUDY3_DIR, person, '5')):\n",
    "\n",
    "    path = np.load(os.path.join(STUDY3_DIR, person, '5', filename))\n",
    "    frames = len(path[0])\n",
    "    seconds += frames / 300\n",
    "print((meta['5']['total_letters'] - 1) * 12 / seconds)\n",
    "\n",
    "seconds = 0\n",
    "for st in meta['5']['starts_and_ends']:\n",
    "    seconds += st['end']-st['start']\n",
    "print((meta['5']['total_letters'] - 1) * 12 / seconds)\n"
   ]
  }
 ],
 "metadata": {
  "kernelspec": {
   "display_name": "Python 3.10.5 64-bit",
   "language": "python",
   "name": "python3"
  },
  "language_info": {
   "codemirror_mode": {
    "name": "ipython",
    "version": 3
   },
   "file_extension": ".py",
   "mimetype": "text/x-python",
   "name": "python",
   "nbconvert_exporter": "python",
   "pygments_lexer": "ipython3",
   "version": "3.10.5"
  },
  "orig_nbformat": 4,
  "vscode": {
   "interpreter": {
    "hash": "2ed2f9a4391345eba779b48810545107e540e5196b3ca5390c526ab7e4ecc23e"
   }
  }
 },
 "nbformat": 4,
 "nbformat_minor": 2
}
