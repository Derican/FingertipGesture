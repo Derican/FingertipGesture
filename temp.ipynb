{
 "cells": [
  {
   "cell_type": "code",
   "execution_count": 279,
   "metadata": {},
   "outputs": [],
   "source": [
    "from Plot import *\n",
    "path = np.load('new_data/ch_data_letter_dir_1/o_0.npy')"
   ]
  },
  {
   "cell_type": "code",
   "execution_count": 284,
   "metadata": {},
   "outputs": [],
   "source": [
    "ANGLE_THRESHOLD = np.pi / 4\n",
    "ANGLE_THRESHOLD_2 = np.pi / 10\n",
    "MERGE_THRESHOLD = 15\n",
    "MERGE_DIST_THRESHOLD = 1\n",
    "HV_THRESHOLD = 0.6\n",
    "HV_AVG_THRESHOLD = 0.5\n",
    "\n",
    "def angleDiff(u, v):\n",
    "    ang1 = np.arctan2(u[1], u[0])\n",
    "    ang2 = np.arctan2(v[1], v[0])\n",
    "    return 2 * np.pi - abs(ang1 -\n",
    "                            ang2) if abs(ang1 -\n",
    "                                        ang2) >= np.pi else abs(ang1 -\n",
    "                                                                ang2)\n",
    "\n",
    "# smooth the path\n",
    "x, y, d = getAveragePath(path,False)\n",
    "x = gaussian_filter1d(x, sigma=8)\n",
    "y = gaussian_filter1d(y, sigma=8)\n",
    "d = gaussian_filter1d(d, sigma=8)\n",
    "\n",
    "# collecting extrema points of pressure\n",
    "d=np.array(d)\n",
    "clamped_d = (d - np.min(d)) / (np.max(d) - np.min(d))\n",
    "pressure_persistence_pairs = sorted(\n",
    "    [t for t in RunPersistence(clamped_d) if t[1] > 0.05],\n",
    "    key=lambda x: x[0])\n",
    "pre_collected_corners=[int(ppp[0]) for ppp in pressure_persistence_pairs]\n",
    "if pre_collected_corners[0] - 0 > MERGE_THRESHOLD:\n",
    "    pre_collected_corners.insert(0,0)\n",
    "if len(x) - 1 - pre_collected_corners[-1] > MERGE_THRESHOLD:\n",
    "    pre_collected_corners.append(len(x) - 1)\n",
    "\n",
    "# filter the turning points that seperates angles\n",
    "debug_dir = []\n",
    "debug_dir.append(pre_collected_corners[0])\n",
    "for u,v in list(zip(pre_collected_corners[:-1],pre_collected_corners[1:])):\n",
    "    i = u+1\n",
    "    while i < v:\n",
    "        cur_v = (x[i] - x[i - 1], y[i] - y[i - 1])\n",
    "        j = i\n",
    "        while j < v and angleDiff(\n",
    "            (x[j] - x[j - 1], y[j] - y[j - 1]),\n",
    "                cur_v) < ANGLE_THRESHOLD and angleDiff(\n",
    "                    (x[j] - x[j - 1], y[j] - y[j - 1]),\n",
    "                    (x[i] - x[i - 1], y[i] - y[i - 1])) < ANGLE_THRESHOLD:\n",
    "            cur_v = (x[j] - x[i - 1], y[j] - y[i - 1])\n",
    "            j += 1\n",
    "        debug_dir.append(j-1)\n",
    "        i = j\n",
    "\n",
    "# merge redundant points caused by overreact\n",
    "real_debug_dir=[]\n",
    "for dd in debug_dir:\n",
    "    if len(real_debug_dir)<=1:\n",
    "        real_debug_dir.append(dd)\n",
    "        continue\n",
    "    if angleDiff((x[real_debug_dir[-1]]-x[real_debug_dir[-2]],y[real_debug_dir[-1]]-y[real_debug_dir[-2]]),(x[dd]-x[real_debug_dir[-1]],y[dd]-y[real_debug_dir[-1]])) <= ANGLE_THRESHOLD_2:\n",
    "        real_debug_dir[-1]=dd\n",
    "    else:\n",
    "        real_debug_dir.append(dd)\n",
    "debug_dir=real_debug_dir\n",
    "\n",
    "# i = 1\n",
    "# while i < len(x):\n",
    "#     cur_v = (x[i] - x[i - 1], y[i] - y[i - 1])\n",
    "#     j = i\n",
    "#     while j < len(x) and angleDiff(\n",
    "#         (x[j] - x[j - 1], y[j] - y[j - 1]),\n",
    "#             cur_v) < ANGLE_THRESHOLD and angleDiff(\n",
    "#                 (x[j] - x[j - 1], y[j] - y[j - 1]),\n",
    "#                 (x[i] - x[i - 1], y[i] - y[i - 1])) < ANGLE_THRESHOLD:\n",
    "#         cur_v = (x[j] - x[i - 1], y[j] - y[i - 1])\n",
    "#         j += 1\n",
    "#     debug_dir.append(j-1)\n",
    "#     i = j\n",
    "\n",
    "# merge points that are enough close to each other\n",
    "i = 0\n",
    "simplified_dir = []\n",
    "while i < len(debug_dir):\n",
    "    t = []\n",
    "    lat = debug_dir[i]\n",
    "    while i < len(debug_dir) and (debug_dir[i] - lat < MERGE_THRESHOLD or (x[debug_dir[i]]-x[lat])**2+(y[debug_dir[i]]-y[lat])**2<MERGE_DIST_THRESHOLD):\n",
    "        t.append(debug_dir[i])\n",
    "        lat = debug_dir[i]\n",
    "        i += 1\n",
    "    simplified_dir.append(int(np.mean(t)))\n",
    "\n",
    "# calculate the average of x/y offsets\n",
    "x_avg, y_avg = 0, 0\n",
    "for u, v in list(zip(simplified_dir[:-1], simplified_dir[1:])):\n",
    "    if abs(x[v] - x[u]) > abs(y[v] - y[u]):\n",
    "        x_avg += abs(x[v] - x[u])\n",
    "    else:\n",
    "        y_avg += abs(y[v] - y[u])\n",
    "x_avg = x_avg / (len(simplified_dir) - 1)\n",
    "y_avg = y_avg / (len(simplified_dir) - 1)\n",
    "\n",
    "# filter the turning points that are far enough to each other\n",
    "filtered_dir = []\n",
    "for sd in simplified_dir:\n",
    "    if len(filtered_dir) <= 0:\n",
    "        filtered_dir.append(sd)\n",
    "        continue\n",
    "    x_off = abs(x[sd] - x[filtered_dir[-1]])\n",
    "    y_off = abs(y[sd] - y[filtered_dir[-1]])\n",
    "    if x_off > y_off and x_off > x_avg * HV_AVG_THRESHOLD and x_off > HV_THRESHOLD:\n",
    "        filtered_dir.append(sd)\n",
    "    elif y_off > x_off and y_off > y_avg * HV_AVG_THRESHOLD and y_off > HV_THRESHOLD:\n",
    "        filtered_dir.append(sd)\n",
    "    elif x_off == y_off and (\n",
    "        (x_off > x_avg * HV_AVG_THRESHOLD and x_off > HV_THRESHOLD) or\n",
    "        (y_off > y_avg * HV_AVG_THRESHOLD and y_off > HV_THRESHOLD)):\n",
    "        filtered_dir.append(sd)"
   ]
  },
  {
   "cell_type": "code",
   "execution_count": 285,
   "metadata": {},
   "outputs": [
    {
     "data": {
      "text/plain": [
       "[0, 25, 44, 76, 96]"
      ]
     },
     "execution_count": 285,
     "metadata": {},
     "output_type": "execute_result"
    },
    {
     "data": {
      "image/png": "[encoded data removed]",
      "text/plain": [
       "<Figure size 432x288 with 4 Axes>"
      ]
     },
     "metadata": {
      "needs_background": "light"
     },
     "output_type": "display_data"
    }
   ],
   "source": [
    "%matplotlib inline\n",
    "fig, axes=plt.subplots(1,4)\n",
    "for i, l in enumerate([pre_collected_corners,debug_dir,simplified_dir,filtered_dir]):\n",
    "    axes[i].axis(\"scaled\")\n",
    "    axes[i].set_xlim(10, 17)\n",
    "    axes[i].set_ylim(15, 25)\n",
    "    axes[i].scatter(x,y)\n",
    "    for f_d in l:\n",
    "        axes[i].scatter([x[f_d]],[y[f_d]],c='red')\n",
    "        axes[i].text(x[f_d],y[f_d],str(f_d))\n",
    "simplified_dir"
   ]
  },
  {
   "cell_type": "code",
   "execution_count": 138,
   "metadata": {},
   "outputs": [
    {
     "name": "stdout",
     "output_type": "stream",
     "text": [
      "2.1891824257336694\n",
      "2.3254409128634848\n"
     ]
    }
   ],
   "source": [
    "i=0\n",
    "j=30\n",
    "print(x[i]-x[j])\n",
    "print(y[i]-y[j])\n"
   ]
  },
  {
   "cell_type": "code",
   "execution_count": 6,
   "metadata": {},
   "outputs": [],
   "source": [
    "from Plot import *\n",
    "\n",
    "def angleDist(ang1, ang2):\n",
    "    return 1 - (np.dot(ang1, ang2) / np.linalg.norm(ang1) /\n",
    "                np.linalg.norm(ang2))\n",
    "\n",
    "usr_angles = []\n",
    "std_angles = []\n",
    "for dir in os.listdir(BASE_DIR):\n",
    "    if not 'letter_' in dir or not os.path.isdir(\n",
    "            os.path.join(BASE_DIR, dir)):\n",
    "        continue\n",
    "    for t_l_i, t_l in enumerate(LETTER):\n",
    "        for rep in range(5):\n",
    "            try:\n",
    "                path = np.load(\n",
    "                    os.path.join(BASE_DIR, dir, \"%s_%d.npy\" % (t_l, rep)))\n",
    "\n",
    "                x, y, d = getAveragePath(path, align_to_first=False)\n",
    "                corners = getCorners(path)\n",
    "                directions_index, redundant_8directions, weights = get8Directions(\n",
    "                    path)\n",
    "                identified_directions_index = []\n",
    "\n",
    "                path_directions = [\n",
    "                    np.array([\n",
    "                        np.cos(EIGHT_DIRECTIONS[i]),\n",
    "                        np.sin(EIGHT_DIRECTIONS[i])\n",
    "                    ]) for i in redundant_8directions\n",
    "                ]\n",
    "                std_directions = [\n",
    "                    np.array([\n",
    "                        np.cos(EIGHT_DIRECTIONS[i]),\n",
    "                        np.sin(EIGHT_DIRECTIONS[i])\n",
    "                    ]) for i in DIRECTION_PATTERN8[t_l]\n",
    "                ]\n",
    "                paths = dtw_ndim.warping_path(path_directions,\n",
    "                                                std_directions)\n",
    "                idx = 0\n",
    "                while idx < len(paths):\n",
    "                    match_list = []\n",
    "                    current_std_idx = paths[idx][1]\n",
    "                    while idx < len(\n",
    "                            paths) and paths[idx][1] == current_std_idx:\n",
    "                        match_list.append(paths[idx][0])\n",
    "                        idx += 1\n",
    "                    identified_directions_index.append(\n",
    "                        directions_index[match_list[np.argmin([\n",
    "                            angleDist(path_directions[m_l],\n",
    "                                        std_directions[current_std_idx])\n",
    "                            for m_l in match_list\n",
    "                        ])]])\n",
    "\n",
    "                # plt.axis(\"scaled\")\n",
    "                # plt.xlim(10, 17)\n",
    "                # plt.ylim(15, 25)\n",
    "                # plt.scatter(x, y, c='blue')\n",
    "                # for _, corner in enumerate(corners):\n",
    "                #     plt.scatter([x[corner]], [y[corner]], c='red')\n",
    "                #     plt.text(x[corner], y[corner], str(_))\n",
    "                # for iu, iv in identified_directions_index:\n",
    "                #     plt.plot([x[iu], x[iv]], [y[iu], y[iv]], c='green')\n",
    "                # plt.show()\n",
    "\n",
    "                std_angles_set = [\n",
    "                    EIGHT_DIRECTIONS[i] for i in DIRECTION_PATTERN8[t_l]\n",
    "                ]\n",
    "                if(len(std_angles_set)<2):\n",
    "                    continue\n",
    "                for (usr, std) in list(zip(zip(identified_directions_index[1:],identified_directions_index[:-1]),zip(std_angles_set[1:],std_angles_set[:-1]))):\n",
    "                    def angleDiff(ang1,ang2):\n",
    "                        return 2 * np.pi - abs(ang1 -\n",
    "                            ang2) if abs(ang1 -\n",
    "                                        ang2) >= np.pi else abs(ang1 -\n",
    "                                                                ang2)\n",
    "                    def included_angle(x1,y1,x2,y2):\n",
    "                        u=np.array([x1,y1])\n",
    "                        v=np.array([x2,y2])\n",
    "                        return np.arccos(np.clip(np.dot(u,v)/np.linalg.norm(u)/np.linalg.norm(v),-1,1))\n",
    "                    std_angles.append(angleDiff(std[0],std[1]))\n",
    "                    usr_angles.append(included_angle(x[usr[0][1]]-x[usr[0][0]], y[usr[0][1]]-y[usr[0][0]], x[usr[1][1]]-x[usr[1][0]], y[usr[1][1]]-y[usr[1][0]]))\n",
    "            except Exception as e:\n",
    "                print(str(e))"
   ]
  },
  {
   "cell_type": "code",
   "execution_count": 7,
   "metadata": {},
   "outputs": [
    {
     "data": {
      "image/png": "[encoded data removed]",
      "text/plain": [
       "<Figure size 432x288 with 1 Axes>"
      ]
     },
     "metadata": {
      "needs_background": "light"
     },
     "output_type": "display_data"
    },
    {
     "name": "stdout",
     "output_type": "stream",
     "text": [
      "                  sum_sq      df           F         PR(>F)\n",
      "C(std_angle)  473.125904     3.0  655.061748  1.014832e-248\n",
      "Residual      278.311445  1156.0         NaN            NaN\n",
      "           Multiple Comparison of Means - Tukey HSD, FWER=0.05           \n",
      "=========================================================================\n",
      "      group1             group2       meandiff p-adj lower  upper  reject\n",
      "-------------------------------------------------------------------------\n",
      "0.7853981633974483 1.5707963267948966   0.9553  -0.0 0.7784 1.1322   True\n",
      "0.7853981633974483  2.356194490192345   1.8719  -0.0 1.7179 2.0259   True\n",
      "0.7853981633974483  3.141592653589793    2.264  -0.0 2.1123 2.4156   True\n",
      "1.5707963267948966  2.356194490192345   0.9166  -0.0 0.7934 1.0398   True\n",
      "1.5707963267948966  3.141592653589793   1.3087  -0.0 1.1885 1.4289   True\n",
      " 2.356194490192345  3.141592653589793   0.3921  -0.0 0.3092 0.4749   True\n",
      "-------------------------------------------------------------------------\n"
     ]
    }
   ],
   "source": [
    "%matplotlib inline\n",
    "df = pd.DataFrame({\n",
    "    'std_angle': std_angles,\n",
    "    'usr_angle': usr_angles\n",
    "})\n",
    "fig, axes = plt.subplots()\n",
    "# sns.boxplot(x='std_angle', y='usr_angle', hue='order', data=df, ax=axes)\n",
    "sns.boxplot(x='std_angle', y='usr_angle', data=df, ax=axes)\n",
    "plt.show()\n",
    "model = ols('usr_angle~C(std_angle)', data=df).fit()\n",
    "anova_table = anova_lm(model, typ=2)\n",
    "print(anova_table)\n",
    "mc = MultiComparison(usr_angles, std_angles)\n",
    "print(mc.tukeyhsd())"
   ]
  },
  {
   "cell_type": "code",
   "execution_count": 9,
   "metadata": {},
   "outputs": [
    {
     "name": "stdout",
     "output_type": "stream",
     "text": [
      "           Multiple Comparison of Means - Tukey HSD, FWER=0.05           \n",
      "=========================================================================\n",
      "      group1             group2       meandiff p-adj lower  upper  reject\n",
      "-------------------------------------------------------------------------\n",
      "               0.0 0.7853981633974483    0.669   0.0 0.4639  0.874   True\n",
      "               0.0 1.5707963267948966   1.6242   0.0 1.4425  1.806   True\n",
      "               0.0  2.356194490192345   2.5409   0.0 2.3827 2.6991   True\n",
      "               0.0  3.141592653589793   2.9329   0.0 2.7772 3.0887   True\n",
      "0.7853981633974483 1.5707963267948966   0.9553   0.0 0.7735  1.137   True\n",
      "0.7853981633974483  2.356194490192345   1.8719   0.0 1.7137 2.0301   True\n",
      "0.7853981633974483  3.141592653589793    2.264   0.0 2.1082 2.4197   True\n",
      "1.5707963267948966  2.356194490192345   0.9166   0.0 0.7901 1.0432   True\n",
      "1.5707963267948966  3.141592653589793   1.3087   0.0 1.1852 1.4321   True\n",
      " 2.356194490192345  3.141592653589793   0.3921   0.0  0.307 0.4771   True\n",
      "-------------------------------------------------------------------------\n"
     ]
    }
   ],
   "source": [
    "std_ang = np.pi / 4\n",
    "l=[]\n",
    "for id in np.where(np.array(std_angles) == std_ang)[0]:\n",
    "    l.append(usr_angles[id])\n",
    "inserted_len = len(l)\n",
    "usr_angles1=usr_angles\n",
    "std_angles1=std_angles\n",
    "for i in range(inserted_len):\n",
    "    usr_angles1.append(0)\n",
    "    std_angles1.append(0)\n",
    "mc = MultiComparison(usr_angles, std_angles)\n",
    "print(mc.tukeyhsd())"
   ]
  },
  {
   "cell_type": "code",
   "execution_count": null,
   "metadata": {},
   "outputs": [],
   "source": []
  }
 ],
 "metadata": {
  "kernelspec": {
   "display_name": "Python 3.8.9 64-bit",
   "language": "python",
   "name": "python3"
  },
  "language_info": {
   "codemirror_mode": {
    "name": "ipython",
    "version": 3
   },
   "file_extension": ".py",
   "mimetype": "text/x-python",
   "name": "python",
   "nbconvert_exporter": "python",
   "pygments_lexer": "ipython3",
   "version": "3.8.9"
  },
  "orig_nbformat": 4,
  "vscode": {
   "interpreter": {
    "hash": "31f2aee4e71d21fbe5cf8b01ff0e069b9275f58929596ceb00d14d90e3e16cd6"
   }
  }
 },
 "nbformat": 4,
 "nbformat_minor": 2
}
